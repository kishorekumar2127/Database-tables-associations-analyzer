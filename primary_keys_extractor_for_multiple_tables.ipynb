{
 "cells": [
  {
   "cell_type": "code",
   "execution_count": 1,
   "metadata": {},
   "outputs": [],
   "source": [
    "import pandas as pd\n",
    "import numpy as np"
   ]
  },
  {
   "cell_type": "code",
   "execution_count": 79,
   "metadata": {},
   "outputs": [],
   "source": [
    "a = pd.DataFrame({'account_id':[101,202,303],'member_name':['Ram','Bheem','Som']})\n",
    "a.name = 'a'\n",
    "b = pd.DataFrame({'account_id':[101,202,303],'locker_id':[9001,9002,9003]})\n",
    "b.name = 'b'\n",
    "c = pd.DataFrame({'locker_id':[9001,9002,9003],'item_code':[5500,4411,3322]})\n",
    "c.name = 'c'\n",
    "# d = pd.DataFrame({'account_id':[101,202,303],'member_name':['Ram','Bheem','Som'],'place':['hyd','bomb','bang']})\n",
    "d = pd.DataFrame({'member_name':['Ram','Bheem','Som'],'place':['hyd','bomb','bang']})\n",
    "d.name = 'd'\n",
    "e = pd.DataFrame({'tokent_id':[123,456,789],'age':[25,73,54]})\n",
    "e.name = 'e'\n",
    "f = pd.DataFrame({'tokent_id':[123,456,789],'height':[4.5, 6.1, 5.8]})\n",
    "f.name = 'f'\n",
    "g = pd.DataFrame({'age':[25,73,54],'weight':[32.4, 78.7, 94.5]})\n",
    "g.name = 'g'\n",
    "h = pd.DataFrame({'job_id':[2202, 2203, 2204],'job_type':['carpenter','plumber','doctor']})\n",
    "h.name = 'h'"
   ]
  },
  {
   "cell_type": "code",
   "execution_count": 80,
   "metadata": {},
   "outputs": [],
   "source": [
    "list_of_dfs = [a, b, c, d, e, f, g, h]"
   ]
  },
  {
   "cell_type": "code",
   "execution_count": 81,
   "metadata": {},
   "outputs": [],
   "source": [
    "mapping_dict_column_names = dict()\n",
    "mapping_dict_no_of_cols = dict()\n",
    "for i in list_of_dfs:\n",
    "    for j in [x for x in list_of_dfs if not x.equals(i)]:\n",
    "        common_cols = set(i.columns).intersection(set(j.columns))\n",
    "        mapping_dict_column_names[tuple([i.name,j.name])] = common_cols\n",
    "        mapping_dict_no_of_cols[tuple([i.name,j.name])] = len(common_cols)\n",
    "        \n",
    "        \n",
    "selected_mapping_dict_column_names = dict()\n",
    "for k, v in mapping_dict_column_names.items():\n",
    "    if v != set():\n",
    "        selected_mapping_dict_column_names[k]=v\n",
    "        \n",
    "        \n",
    "selected_tuples = set(tuple(sorted(l)) for l in selected_mapping_dict_column_names)\n",
    "\n",
    "\n",
    "final_dict_connections = dict()\n",
    "final_dict_numbers = dict()\n",
    "\n",
    "for i in selected_tuples:\n",
    "    final_dict_connections[i] = selected_mapping_dict_column_names[i]\n",
    "    \n",
    "for i in selected_tuples:\n",
    "    final_dict_numbers[i] = mapping_dict_no_of_cols[i]\n",
    "    \n",
    "    \n",
    "final_connected_tables_list = []\n",
    "tracker_tuples = list(selected_tuples)\n",
    "discarded_tuples = []\n",
    "discarded_tuples_flag = 1\n",
    "last_element = None\n",
    "\n",
    "while discarded_tuples_flag == 1:\n",
    "    connected_tables_list = []\n",
    "    last_element = None\n",
    "    for i in tracker_tuples:\n",
    "        curr_tuple = i\n",
    "        if last_element == None:\n",
    "            connected_tables_list.append([curr_tuple[0],curr_tuple[1]])\n",
    "            connected_tables_list = [item for sublist in connected_tables_list for item in sublist]\n",
    "            last_element = curr_tuple[1]\n",
    "            tracker_tuples = [x for x in tracker_tuples if x != curr_tuple]\n",
    "        else:\n",
    "            if (curr_tuple[0] == last_element):\n",
    "                connected_tables_list.append([curr_tuple[1]])\n",
    "                connected_tables_list = [item for sublist in connected_tables_list for item in sublist]\n",
    "                last_element = curr_tuple[1]\n",
    "                tracker_tuples = [x for x in tracker_tuples if x != curr_tuple]\n",
    "            elif (curr_tuple[1] == last_element):\n",
    "                connected_tables_list.append([curr_tuple[0]])\n",
    "                connected_tables_list = [item for sublist in connected_tables_list for item in sublist]\n",
    "                last_element = curr_tuple[0]\n",
    "                tracker_tuples = [x for x in tracker_tuples if x != curr_tuple]\n",
    "            else:\n",
    "                discarded_tuples.append(curr_tuple)\n",
    "                tracker_tuples = [x for x in tracker_tuples if x != curr_tuple]\n",
    "                continue\n",
    "\n",
    "\n",
    "    if len(discarded_tuples) == 0:\n",
    "        discarded_tuples_flag = 0\n",
    "    elif len(discarded_tuples) == 1:\n",
    "        discarded_tuples_flag = 0\n",
    "        final_pair = discarded_tuples[0]\n",
    "        final_connected_tables_list.append([final_pair[0],final_pair[1]])\n",
    "    else:\n",
    "        tracker_tuples = [tup[::-1] for tup in discarded_tuples]\n",
    "        discarded_tuples = []\n",
    "    \n",
    "    final_connected_tables_list.append(connected_tables_list)\n",
    "    \n",
    "    \n",
    "final_connected_tables_list = [list(set(sublist)) for sublist in final_connected_tables_list]\n",
    "\n",
    "\n",
    "final_list = []\n",
    "discarded_list = []\n",
    "discarded_list_flag = 1\n",
    "current_list = final_connected_tables_list\n",
    "while discarded_list_flag == 1:\n",
    "    super_set = set(current_list[0])\n",
    "    for i in current_list:\n",
    "        input_set = set(i)\n",
    "        if super_set & input_set:\n",
    "            super_set = super_set.union(input_set)\n",
    "        else:\n",
    "            discarded_list.append(i)\n",
    "    final_list.append(list(super_set))\n",
    "    \n",
    "    current_list = discarded_list\n",
    "    \n",
    "    if len(discarded_list) == 0:\n",
    "        discarded_list_flag = 0\n",
    "        \n",
    "    discarded_list = []\n",
    "    \n",
    "    \n",
    "list_of_all_dfs = set([x.name for x in list_of_dfs])\n",
    "list_of_all_dfs\n",
    "\n",
    "\n",
    "connected_tables = set([x for sublist in final_list for x in sublist])\n",
    "disconnected_tables = list(list_of_all_dfs.difference(connected_tables))\n",
    "for i in disconnected_tables:\n",
    "    final_list.append(i)"
   ]
  },
  {
   "cell_type": "code",
   "execution_count": 82,
   "metadata": {},
   "outputs": [
    {
     "name": "stdout",
     "output_type": "stream",
     "text": [
      "[['b', 'c', 'd', 'a'], ['e', 'f', 'g'], 'h'] \n",
      "\n",
      "\n"
     ]
    },
    {
     "data": {
      "text/plain": [
       "{('a', 'd'): {'member_name'},\n",
       " ('e', 'g'): {'age'},\n",
       " ('e', 'f'): {'tokent_id'},\n",
       " ('b', 'c'): {'locker_id'},\n",
       " ('a', 'b'): {'account_id'}}"
      ]
     },
     "execution_count": 82,
     "metadata": {},
     "output_type": "execute_result"
    }
   ],
   "source": [
    "print(final_list,2*'\\n')\n",
    "final_dict_connections"
   ]
  }
 ],
 "metadata": {
  "kernelspec": {
   "display_name": "Python 3",
   "language": "python",
   "name": "python3"
  },
  "language_info": {
   "codemirror_mode": {
    "name": "ipython",
    "version": 3
   },
   "file_extension": ".py",
   "mimetype": "text/x-python",
   "name": "python",
   "nbconvert_exporter": "python",
   "pygments_lexer": "ipython3",
   "version": "3.7.1"
  }
 },
 "nbformat": 4,
 "nbformat_minor": 2
}
